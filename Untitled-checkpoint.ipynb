{
 "cells": [
  {
   "cell_type": "code",
   "execution_count": 78,
   "id": "occasional-official",
   "metadata": {},
   "outputs": [
    {
     "data": {
      "text/html": [
       "\n",
       "        <iframe\n",
       "            width=\"700\"\n",
       "            height=\"400\"\n",
       "            src=\"https://overpass-turbo.eu\"\n",
       "            frameborder=\"0\"\n",
       "            allowfullscreen\n",
       "        ></iframe>\n",
       "        "
      ],
      "text/plain": [
       "<IPython.lib.display.IFrame at 0x7f1f624a6550>"
      ]
     },
     "execution_count": 78,
     "metadata": {},
     "output_type": "execute_result"
    }
   ],
   "source": [
    "from IPython.display import IFrame\n",
    "url = 'https://overpass-turbo.eu'\n",
    "IFrame(url, 700, 400)"
   ]
  },
  {
   "cell_type": "code",
   "execution_count": 79,
   "id": "minor-netherlands",
   "metadata": {},
   "outputs": [
    {
     "name": "stdout",
     "output_type": "stream",
     "text": [
      "Requirement already satisfied: utm in /opt/conda/lib/python3.8/site-packages (0.7.0)\n"
     ]
    }
   ],
   "source": [
    "!pip install utm"
   ]
  },
  {
   "cell_type": "code",
   "execution_count": 80,
   "id": "hybrid-there",
   "metadata": {},
   "outputs": [],
   "source": [
    "import matplotlib.pyplot as plt\n",
    "%matplotlib inline\n",
    "\n",
    "import geopandas as gpd\n",
    "import utm\n",
    "\n",
    "import osmnx as ox\n",
    "ox.config(use_cache=True, log_console=True)"
   ]
  },
  {
   "cell_type": "code",
   "execution_count": 8,
   "id": "banner-corrections",
   "metadata": {},
   "outputs": [
    {
     "data": {
      "text/plain": [
       "[43.2, -11.74, 43.33, -11.85]"
      ]
     },
     "execution_count": 8,
     "metadata": {},
     "output_type": "execute_result"
    }
   ],
   "source": [
    "# hotosm task 5977 bounding box. We won't use it here, but it's a good reference to have\n",
    "bbox_hotosmtask5977 = [43.16, -11.32, 43.54, -11.96]\n",
    "\n",
    "# We'll use a smaller bounding box near the southwest corner.\n",
    "# This is so we're dealing with smaller datasets, for faster processing and to be gentler on the hotosm servers\n",
    "bbox = [43.2, -11.74, 43.33, -11.85]\n",
    "west, north, east, south = bbox\n",
    "bbox_ctr = [0.5*(north+south), 0.5*(west+east)]\n",
    "\n",
    "bbox"
   ]
  },
  {
   "cell_type": "code",
   "execution_count": 9,
   "id": "structural-swift",
   "metadata": {},
   "outputs": [],
   "source": [
    "buildings_gdf = ox.geometries.geometries_from_bbox(north=north, south=south, east=east, west=west,\n",
    "                                         tags = {'building': True})"
   ]
  },
  {
   "cell_type": "code",
   "execution_count": 10,
   "id": "derived-notebook",
   "metadata": {},
   "outputs": [
    {
     "data": {
      "text/plain": [
       "2192"
      ]
     },
     "execution_count": 10,
     "metadata": {},
     "output_type": "execute_result"
    }
   ],
   "source": [
    "# Number of buildings returned\n",
    "len(buildings_gdf)"
   ]
  },
  {
   "cell_type": "code",
   "execution_count": 11,
   "id": "circular-beatles",
   "metadata": {},
   "outputs": [
    {
     "data": {
      "image/png": "[encoded data removed]",
      "text/plain": [
       "<Figure size 432x288 with 1 Axes>"
      ]
     },
     "metadata": {
      "needs_background": "light"
     },
     "output_type": "display_data"
    }
   ],
   "source": [
    "buildings_gdf.plot(edgecolor='red', linewidth=2);"
   ]
  },
  {
   "cell_type": "code",
   "execution_count": 12,
   "id": "french-language",
   "metadata": {},
   "outputs": [
    {
     "data": {
      "text/plain": [
       "Index(['unique_id', 'osmid', 'element_type', 'nodes', 'building', 'geometry',\n",
       "       'amenity', 'name', 'denomination', 'religion', 'source', 'source_1',\n",
       "       'building:levels', 'area', 'length', 'building:condition',\n",
       "       'building:material', 'comoros-dgsc:code', 'roof:material',\n",
       "       'source:geometry', 'office', 'isced:level', 'name:ar', 'name:fr',\n",
       "       'height', 'addr:city', 'shop', 'addr:street'],\n",
       "      dtype='object')"
      ]
     },
     "execution_count": 12,
     "metadata": {},
     "output_type": "execute_result"
    }
   ],
   "source": [
    "buildings_gdf.columns"
   ]
  },
  {
   "cell_type": "code",
   "execution_count": 13,
   "id": "about-vulnerability",
   "metadata": {},
   "outputs": [
    {
     "data": {
      "text/html": [
       "<div>\n",
       "<style scoped>\n",
       "    .dataframe tbody tr th:only-of-type {\n",
       "        vertical-align: middle;\n",
       "    }\n",
       "\n",
       "    .dataframe tbody tr th {\n",
       "        vertical-align: top;\n",
       "    }\n",
       "\n",
       "    .dataframe thead th {\n",
       "        text-align: right;\n",
       "    }\n",
       "</style>\n",
       "<table border=\"1\" class=\"dataframe\">\n",
       "  <thead>\n",
       "    <tr style=\"text-align: right;\">\n",
       "      <th></th>\n",
       "      <th>unique_id</th>\n",
       "      <th>osmid</th>\n",
       "      <th>element_type</th>\n",
       "      <th>nodes</th>\n",
       "      <th>building</th>\n",
       "      <th>geometry</th>\n",
       "      <th>amenity</th>\n",
       "      <th>name</th>\n",
       "      <th>denomination</th>\n",
       "      <th>religion</th>\n",
       "      <th>...</th>\n",
       "      <th>roof:material</th>\n",
       "      <th>source:geometry</th>\n",
       "      <th>office</th>\n",
       "      <th>isced:level</th>\n",
       "      <th>name:ar</th>\n",
       "      <th>name:fr</th>\n",
       "      <th>height</th>\n",
       "      <th>addr:city</th>\n",
       "      <th>shop</th>\n",
       "      <th>addr:street</th>\n",
       "    </tr>\n",
       "  </thead>\n",
       "  <tbody>\n",
       "    <tr>\n",
       "      <th>0</th>\n",
       "      <td>way/369069459</td>\n",
       "      <td>369069459</td>\n",
       "      <td>way</td>\n",
       "      <td>[3728944964, 3728944967, 3728944936, 372894495...</td>\n",
       "      <td>yes</td>\n",
       "      <td>POLYGON ((43.27945 -11.80665, 43.27959 -11.806...</td>\n",
       "      <td>NaN</td>\n",
       "      <td>NaN</td>\n",
       "      <td>NaN</td>\n",
       "      <td>NaN</td>\n",
       "      <td>...</td>\n",
       "      <td>NaN</td>\n",
       "      <td>NaN</td>\n",
       "      <td>NaN</td>\n",
       "      <td>NaN</td>\n",
       "      <td>NaN</td>\n",
       "      <td>NaN</td>\n",
       "      <td>NaN</td>\n",
       "      <td>NaN</td>\n",
       "      <td>NaN</td>\n",
       "      <td>NaN</td>\n",
       "    </tr>\n",
       "    <tr>\n",
       "      <th>1</th>\n",
       "      <td>way/369069461</td>\n",
       "      <td>369069461</td>\n",
       "      <td>way</td>\n",
       "      <td>[3728944944, 3728944958, 3728944961, 372894495...</td>\n",
       "      <td>yes</td>\n",
       "      <td>POLYGON ((43.27940 -11.80621, 43.27949 -11.806...</td>\n",
       "      <td>NaN</td>\n",
       "      <td>NaN</td>\n",
       "      <td>NaN</td>\n",
       "      <td>NaN</td>\n",
       "      <td>...</td>\n",
       "      <td>NaN</td>\n",
       "      <td>NaN</td>\n",
       "      <td>NaN</td>\n",
       "      <td>NaN</td>\n",
       "      <td>NaN</td>\n",
       "      <td>NaN</td>\n",
       "      <td>NaN</td>\n",
       "      <td>NaN</td>\n",
       "      <td>NaN</td>\n",
       "      <td>NaN</td>\n",
       "    </tr>\n",
       "    <tr>\n",
       "      <th>2</th>\n",
       "      <td>way/369069462</td>\n",
       "      <td>369069462</td>\n",
       "      <td>way</td>\n",
       "      <td>[3728944954, 3728944966, 3728944946, 372894495...</td>\n",
       "      <td>yes</td>\n",
       "      <td>POLYGON ((43.27965 -11.80698, 43.27971 -11.807...</td>\n",
       "      <td>NaN</td>\n",
       "      <td>NaN</td>\n",
       "      <td>NaN</td>\n",
       "      <td>NaN</td>\n",
       "      <td>...</td>\n",
       "      <td>NaN</td>\n",
       "      <td>NaN</td>\n",
       "      <td>NaN</td>\n",
       "      <td>NaN</td>\n",
       "      <td>NaN</td>\n",
       "      <td>NaN</td>\n",
       "      <td>NaN</td>\n",
       "      <td>NaN</td>\n",
       "      <td>NaN</td>\n",
       "      <td>NaN</td>\n",
       "    </tr>\n",
       "    <tr>\n",
       "      <th>3</th>\n",
       "      <td>way/369069463</td>\n",
       "      <td>369069463</td>\n",
       "      <td>way</td>\n",
       "      <td>[3728944948, 3728944938, 3728944965, 372894496...</td>\n",
       "      <td>yes</td>\n",
       "      <td>POLYGON ((43.27906 -11.80663, 43.27912 -11.806...</td>\n",
       "      <td>NaN</td>\n",
       "      <td>NaN</td>\n",
       "      <td>NaN</td>\n",
       "      <td>NaN</td>\n",
       "      <td>...</td>\n",
       "      <td>NaN</td>\n",
       "      <td>NaN</td>\n",
       "      <td>NaN</td>\n",
       "      <td>NaN</td>\n",
       "      <td>NaN</td>\n",
       "      <td>NaN</td>\n",
       "      <td>NaN</td>\n",
       "      <td>NaN</td>\n",
       "      <td>NaN</td>\n",
       "      <td>NaN</td>\n",
       "    </tr>\n",
       "    <tr>\n",
       "      <th>4</th>\n",
       "      <td>way/369069465</td>\n",
       "      <td>369069465</td>\n",
       "      <td>way</td>\n",
       "      <td>[3728944942, 3728944962, 3728944963, 372894496...</td>\n",
       "      <td>yes</td>\n",
       "      <td>POLYGON ((43.27919 -11.80690, 43.27929 -11.807...</td>\n",
       "      <td>NaN</td>\n",
       "      <td>NaN</td>\n",
       "      <td>NaN</td>\n",
       "      <td>NaN</td>\n",
       "      <td>...</td>\n",
       "      <td>NaN</td>\n",
       "      <td>NaN</td>\n",
       "      <td>NaN</td>\n",
       "      <td>NaN</td>\n",
       "      <td>NaN</td>\n",
       "      <td>NaN</td>\n",
       "      <td>NaN</td>\n",
       "      <td>NaN</td>\n",
       "      <td>NaN</td>\n",
       "      <td>NaN</td>\n",
       "    </tr>\n",
       "  </tbody>\n",
       "</table>\n",
       "<p>5 rows × 28 columns</p>\n",
       "</div>"
      ],
      "text/plain": [
       "       unique_id      osmid element_type  \\\n",
       "0  way/369069459  369069459          way   \n",
       "1  way/369069461  369069461          way   \n",
       "2  way/369069462  369069462          way   \n",
       "3  way/369069463  369069463          way   \n",
       "4  way/369069465  369069465          way   \n",
       "\n",
       "                                               nodes building  \\\n",
       "0  [3728944964, 3728944967, 3728944936, 372894495...      yes   \n",
       "1  [3728944944, 3728944958, 3728944961, 372894495...      yes   \n",
       "2  [3728944954, 3728944966, 3728944946, 372894495...      yes   \n",
       "3  [3728944948, 3728944938, 3728944965, 372894496...      yes   \n",
       "4  [3728944942, 3728944962, 3728944963, 372894496...      yes   \n",
       "\n",
       "                                            geometry amenity name  \\\n",
       "0  POLYGON ((43.27945 -11.80665, 43.27959 -11.806...     NaN  NaN   \n",
       "1  POLYGON ((43.27940 -11.80621, 43.27949 -11.806...     NaN  NaN   \n",
       "2  POLYGON ((43.27965 -11.80698, 43.27971 -11.807...     NaN  NaN   \n",
       "3  POLYGON ((43.27906 -11.80663, 43.27912 -11.806...     NaN  NaN   \n",
       "4  POLYGON ((43.27919 -11.80690, 43.27929 -11.807...     NaN  NaN   \n",
       "\n",
       "  denomination religion  ... roof:material source:geometry office isced:level  \\\n",
       "0          NaN      NaN  ...           NaN             NaN    NaN         NaN   \n",
       "1          NaN      NaN  ...           NaN             NaN    NaN         NaN   \n",
       "2          NaN      NaN  ...           NaN             NaN    NaN         NaN   \n",
       "3          NaN      NaN  ...           NaN             NaN    NaN         NaN   \n",
       "4          NaN      NaN  ...           NaN             NaN    NaN         NaN   \n",
       "\n",
       "  name:ar name:fr height addr:city shop addr:street  \n",
       "0     NaN     NaN    NaN       NaN  NaN         NaN  \n",
       "1     NaN     NaN    NaN       NaN  NaN         NaN  \n",
       "2     NaN     NaN    NaN       NaN  NaN         NaN  \n",
       "3     NaN     NaN    NaN       NaN  NaN         NaN  \n",
       "4     NaN     NaN    NaN       NaN  NaN         NaN  \n",
       "\n",
       "[5 rows x 28 columns]"
      ]
     },
     "execution_count": 13,
     "metadata": {},
     "output_type": "execute_result"
    }
   ],
   "source": [
    "buildings_gdf.head()"
   ]
  },
  {
   "cell_type": "code",
   "execution_count": 14,
   "id": "educated-earth",
   "metadata": {},
   "outputs": [
    {
     "data": {
      "text/plain": [
       "yes            1457\n",
       "residential     667\n",
       "apartments       18\n",
       "commercial       17\n",
       "industrial        9\n",
       "mosque            9\n",
       "public            6\n",
       "school            3\n",
       "house             3\n",
       "garage            2\n",
       "hospital          1\n",
       "Name: building, dtype: int64"
      ]
     },
     "execution_count": 14,
     "metadata": {},
     "output_type": "execute_result"
    }
   ],
   "source": [
    "buildings_gdf['building'].value_counts()"
   ]
  },
  {
   "cell_type": "code",
   "execution_count": 15,
   "id": "domestic-advance",
   "metadata": {},
   "outputs": [
    {
     "data": {
      "text/plain": [
       "place_of_worship    17\n",
       "community_centre     7\n",
       "marketplace          4\n",
       "school               4\n",
       "restaurant           1\n",
       "library              1\n",
       "hospital             1\n",
       "Name: amenity, dtype: int64"
      ]
     },
     "execution_count": 15,
     "metadata": {},
     "output_type": "execute_result"
    }
   ],
   "source": [
    "buildings_gdf['amenity'].value_counts()"
   ]
  },
  {
   "cell_type": "code",
   "execution_count": 16,
   "id": "bronze-football",
   "metadata": {},
   "outputs": [
    {
     "data": {
      "text/plain": [
       "#opendri-comoros;survey                 751\n",
       "#osm4km                                 563\n",
       "#opendri-comoros                        190\n",
       "#opendri-comoros; DGSC; initial load     22\n",
       "DGCS-Comoros                              6\n",
       "Kaart Ground Survey 2017                  5\n",
       "Name: source, dtype: int64"
      ]
     },
     "execution_count": 16,
     "metadata": {},
     "output_type": "execute_result"
    }
   ],
   "source": [
    "buildings_gdf['source'].value_counts()"
   ]
  },
  {
   "cell_type": "code",
   "execution_count": 17,
   "id": "secret-engineering",
   "metadata": {},
   "outputs": [
    {
     "data": {
      "text/plain": [
       "Bing        444\n",
       "bing        436\n",
       "BING         62\n",
       "mapquest     12\n",
       "1             2\n",
       "Name: source:geometry, dtype: int64"
      ]
     },
     "execution_count": 17,
     "metadata": {},
     "output_type": "execute_result"
    }
   ],
   "source": [
    "buildings_gdf['source:geometry'].value_counts()"
   ]
  },
  {
   "cell_type": "code",
   "execution_count": 18,
   "id": "general-nirvana",
   "metadata": {},
   "outputs": [
    {
     "ename": "EmptyOverpassResponse",
     "evalue": "There are no data elements in the response JSON",
     "output_type": "error",
     "traceback": [
      "\u001b[0;31m---------------------------------------------------------------------------\u001b[0m",
      "\u001b[0;31mEmptyOverpassResponse\u001b[0m                     Traceback (most recent call last)",
      "\u001b[0;32m<ipython-input-18-4e3adee1996e>\u001b[0m in \u001b[0;36m<module>\u001b[0;34m\u001b[0m\n\u001b[1;32m      3\u001b[0m \u001b[0;31m# for station-based rail network, you should download a station adjacency matrix elsewhere\u001b[0m\u001b[0;34m\u001b[0m\u001b[0;34m\u001b[0m\u001b[0;34m\u001b[0m\u001b[0m\n\u001b[1;32m      4\u001b[0m \u001b[0mox\u001b[0m\u001b[0;34m.\u001b[0m\u001b[0msettings\u001b[0m\u001b[0;34m.\u001b[0m\u001b[0museful_tags_way\u001b[0m \u001b[0;34m+=\u001b[0m \u001b[0;34m[\u001b[0m\u001b[0;34m\"railway\"\u001b[0m\u001b[0;34m]\u001b[0m\u001b[0;34m\u001b[0m\u001b[0;34m\u001b[0m\u001b[0m\n\u001b[0;32m----> 5\u001b[0;31m G = ox.graph_from_place(\n\u001b[0m\u001b[1;32m      6\u001b[0m     \u001b[0;34m\"New York City, New York\"\u001b[0m\u001b[0;34m,\u001b[0m\u001b[0;34m\u001b[0m\u001b[0;34m\u001b[0m\u001b[0m\n\u001b[1;32m      7\u001b[0m     \u001b[0mretain_all\u001b[0m\u001b[0;34m=\u001b[0m\u001b[0;32mFalse\u001b[0m\u001b[0;34m,\u001b[0m\u001b[0;34m\u001b[0m\u001b[0;34m\u001b[0m\u001b[0m\n",
      "\u001b[0;32m/opt/conda/lib/python3.8/site-packages/osmnx/graph.py\u001b[0m in \u001b[0;36mgraph_from_place\u001b[0;34m(query, network_type, simplify, retain_all, truncate_by_edge, which_result, buffer_dist, clean_periphery, custom_filter)\u001b[0m\n\u001b[1;32m    338\u001b[0m \u001b[0;34m\u001b[0m\u001b[0m\n\u001b[1;32m    339\u001b[0m     \u001b[0;31m# create graph using this polygon(s) geometry\u001b[0m\u001b[0;34m\u001b[0m\u001b[0;34m\u001b[0m\u001b[0;34m\u001b[0m\u001b[0m\n\u001b[0;32m--> 340\u001b[0;31m     G = graph_from_polygon(\n\u001b[0m\u001b[1;32m    341\u001b[0m         \u001b[0mpolygon\u001b[0m\u001b[0;34m,\u001b[0m\u001b[0;34m\u001b[0m\u001b[0;34m\u001b[0m\u001b[0m\n\u001b[1;32m    342\u001b[0m         \u001b[0mnetwork_type\u001b[0m\u001b[0;34m=\u001b[0m\u001b[0mnetwork_type\u001b[0m\u001b[0;34m,\u001b[0m\u001b[0;34m\u001b[0m\u001b[0;34m\u001b[0m\u001b[0m\n",
      "\u001b[0;32m/opt/conda/lib/python3.8/site-packages/osmnx/graph.py\u001b[0m in \u001b[0;36mgraph_from_polygon\u001b[0;34m(polygon, network_type, simplify, retain_all, truncate_by_edge, clean_periphery, custom_filter)\u001b[0m\n\u001b[1;32m    421\u001b[0m         \u001b[0;31m# create buffered graph from the downloaded data\u001b[0m\u001b[0;34m\u001b[0m\u001b[0;34m\u001b[0m\u001b[0;34m\u001b[0m\u001b[0m\n\u001b[1;32m    422\u001b[0m         \u001b[0mbidirectional\u001b[0m \u001b[0;34m=\u001b[0m \u001b[0mnetwork_type\u001b[0m \u001b[0;32min\u001b[0m \u001b[0msettings\u001b[0m\u001b[0;34m.\u001b[0m\u001b[0mbidirectional_network_types\u001b[0m\u001b[0;34m\u001b[0m\u001b[0;34m\u001b[0m\u001b[0m\n\u001b[0;32m--> 423\u001b[0;31m         \u001b[0mG_buff\u001b[0m \u001b[0;34m=\u001b[0m \u001b[0m_create_graph\u001b[0m\u001b[0;34m(\u001b[0m\u001b[0mresponse_jsons\u001b[0m\u001b[0;34m,\u001b[0m \u001b[0mretain_all\u001b[0m\u001b[0;34m=\u001b[0m\u001b[0;32mTrue\u001b[0m\u001b[0;34m,\u001b[0m \u001b[0mbidirectional\u001b[0m\u001b[0;34m=\u001b[0m\u001b[0mbidirectional\u001b[0m\u001b[0;34m)\u001b[0m\u001b[0;34m\u001b[0m\u001b[0;34m\u001b[0m\u001b[0m\n\u001b[0m\u001b[1;32m    424\u001b[0m \u001b[0;34m\u001b[0m\u001b[0m\n\u001b[1;32m    425\u001b[0m         \u001b[0;31m# truncate buffered graph to the buffered polygon and retain_all for\u001b[0m\u001b[0;34m\u001b[0m\u001b[0;34m\u001b[0m\u001b[0;34m\u001b[0m\u001b[0m\n",
      "\u001b[0;32m/opt/conda/lib/python3.8/site-packages/osmnx/graph.py\u001b[0m in \u001b[0;36m_create_graph\u001b[0;34m(response_jsons, retain_all, bidirectional)\u001b[0m\n\u001b[1;32m    528\u001b[0m     \u001b[0;31m# make sure we got data back from the server request(s)\u001b[0m\u001b[0;34m\u001b[0m\u001b[0;34m\u001b[0m\u001b[0;34m\u001b[0m\u001b[0m\n\u001b[1;32m    529\u001b[0m     \u001b[0;32mif\u001b[0m \u001b[0;32mnot\u001b[0m \u001b[0many\u001b[0m\u001b[0;34m(\u001b[0m\u001b[0mrj\u001b[0m\u001b[0;34m[\u001b[0m\u001b[0;34m\"elements\"\u001b[0m\u001b[0;34m]\u001b[0m \u001b[0;32mfor\u001b[0m \u001b[0mrj\u001b[0m \u001b[0;32min\u001b[0m \u001b[0mresponse_jsons\u001b[0m\u001b[0;34m)\u001b[0m\u001b[0;34m:\u001b[0m\u001b[0;34m\u001b[0m\u001b[0;34m\u001b[0m\u001b[0m\n\u001b[0;32m--> 530\u001b[0;31m         \u001b[0;32mraise\u001b[0m \u001b[0mEmptyOverpassResponse\u001b[0m\u001b[0;34m(\u001b[0m\u001b[0;34m\"There are no data elements in the response JSON\"\u001b[0m\u001b[0;34m)\u001b[0m\u001b[0;34m\u001b[0m\u001b[0;34m\u001b[0m\u001b[0m\n\u001b[0m\u001b[1;32m    531\u001b[0m \u001b[0;34m\u001b[0m\u001b[0m\n\u001b[1;32m    532\u001b[0m     \u001b[0;31m# create the graph as a MultiDiGraph and set its meta-attributes\u001b[0m\u001b[0;34m\u001b[0m\u001b[0;34m\u001b[0m\u001b[0;34m\u001b[0m\u001b[0m\n",
      "\u001b[0;31mEmptyOverpassResponse\u001b[0m: There are no data elements in the response JSON"
     ]
    }
   ],
   "source": [
    "# get NY subway rail network\n",
    "# note this is rail *infrastructure* and thus includes crossovers, sidings, spurs, yards, etc\n",
    "# for station-based rail network, you should download a station adjacency matrix elsewhere\n",
    "ox.settings.useful_tags_way += [\"railway\"]\n",
    "G = ox.graph_from_place(\n",
    "    \"New York City, New York\",\n",
    "    retain_all=False,\n",
    "    truncate_by_edge=True,\n",
    "    simplify=True,\n",
    "    custom_filter='[\"railway\"~\"subway\"]',\n",
    ")\n",
    "\n",
    "fig, ax = ox.plot_graph(G, node_size=0, edge_color=\"w\", edge_linewidth=0.2)"
   ]
  },
  {
   "cell_type": "code",
   "execution_count": 1,
   "id": "religious-belly",
   "metadata": {},
   "outputs": [
    {
     "name": "stdout",
     "output_type": "stream",
     "text": [
      "Requirement already satisfied: cenpy in /opt/conda/lib/python3.8/site-packages (1.0.0.post4)\n",
      "Requirement already satisfied: pandas in /opt/conda/lib/python3.8/site-packages (from cenpy) (1.2.3)\n",
      "Requirement already satisfied: fuzzywuzzy in /opt/conda/lib/python3.8/site-packages (from cenpy) (0.18.0)\n",
      "Requirement already satisfied: numpy in /opt/conda/lib/python3.8/site-packages (from cenpy) (1.20.1)\n",
      "Requirement already satisfied: geopandas in /opt/conda/lib/python3.8/site-packages (from cenpy) (0.9.0)\n",
      "Requirement already satisfied: rtree in /opt/conda/lib/python3.8/site-packages (from cenpy) (0.9.7)\n",
      "Requirement already satisfied: requests in /opt/conda/lib/python3.8/site-packages (from cenpy) (2.25.1)\n",
      "Requirement already satisfied: libpysal in /opt/conda/lib/python3.8/site-packages (from cenpy) (4.4.0)\n",
      "Requirement already satisfied: six in /opt/conda/lib/python3.8/site-packages (from cenpy) (1.15.0)\n",
      "Requirement already satisfied: pyproj>=2.2.0 in /opt/conda/lib/python3.8/site-packages (from geopandas->cenpy) (3.0.1)\n",
      "Requirement already satisfied: shapely>=1.6 in /opt/conda/lib/python3.8/site-packages (from geopandas->cenpy) (1.7.1)\n",
      "Requirement already satisfied: fiona>=1.8 in /opt/conda/lib/python3.8/site-packages (from geopandas->cenpy) (1.8.18)\n",
      "Requirement already satisfied: attrs>=17 in /opt/conda/lib/python3.8/site-packages (from fiona>=1.8->geopandas->cenpy) (20.3.0)\n",
      "Requirement already satisfied: certifi in /opt/conda/lib/python3.8/site-packages (from fiona>=1.8->geopandas->cenpy) (2020.12.5)\n",
      "Requirement already satisfied: click<8,>=4.0 in /opt/conda/lib/python3.8/site-packages (from fiona>=1.8->geopandas->cenpy) (7.1.2)\n",
      "Requirement already satisfied: cligj>=0.5 in /opt/conda/lib/python3.8/site-packages (from fiona>=1.8->geopandas->cenpy) (0.7.1)\n",
      "Requirement already satisfied: click-plugins>=1.0 in /opt/conda/lib/python3.8/site-packages (from fiona>=1.8->geopandas->cenpy) (1.1.1)\n",
      "Requirement already satisfied: munch in /opt/conda/lib/python3.8/site-packages (from fiona>=1.8->geopandas->cenpy) (2.5.0)\n",
      "Requirement already satisfied: python-dateutil>=2.7.3 in /opt/conda/lib/python3.8/site-packages (from pandas->cenpy) (2.7.5)\n",
      "Requirement already satisfied: pytz>=2017.3 in /opt/conda/lib/python3.8/site-packages (from pandas->cenpy) (2021.1)\n",
      "Requirement already satisfied: jinja2 in /opt/conda/lib/python3.8/site-packages (from libpysal->cenpy) (2.11.3)\n",
      "Requirement already satisfied: beautifulsoup4 in /opt/conda/lib/python3.8/site-packages (from libpysal->cenpy) (4.9.3)\n",
      "Requirement already satisfied: scipy>=0.11 in /opt/conda/lib/python3.8/site-packages (from libpysal->cenpy) (1.6.1)\n",
      "Requirement already satisfied: soupsieve>1.2 in /opt/conda/lib/python3.8/site-packages (from beautifulsoup4->libpysal->cenpy) (2.0.1)\n",
      "Requirement already satisfied: MarkupSafe>=0.23 in /opt/conda/lib/python3.8/site-packages (from jinja2->libpysal->cenpy) (1.1.1)\n",
      "Requirement already satisfied: chardet<5,>=3.0.2 in /opt/conda/lib/python3.8/site-packages (from requests->cenpy) (4.0.0)\n",
      "Requirement already satisfied: urllib3<1.27,>=1.21.1 in /opt/conda/lib/python3.8/site-packages (from requests->cenpy) (1.24.3)\n",
      "Requirement already satisfied: idna<3,>=2.5 in /opt/conda/lib/python3.8/site-packages (from requests->cenpy) (2.10)\n",
      "Requirement already satisfied: python-Levenshtein in /opt/conda/lib/python3.8/site-packages (0.12.2)\n",
      "Requirement already satisfied: setuptools in /opt/conda/lib/python3.8/site-packages (from python-Levenshtein) (49.6.0.post20210108)\n"
     ]
    }
   ],
   "source": [
    "!pip install cenpy\n",
    "!pip install python-Levenshtein"
   ]
  },
  {
   "cell_type": "code",
   "execution_count": 2,
   "id": "convenient-province",
   "metadata": {},
   "outputs": [
    {
     "name": "stderr",
     "output_type": "stream",
     "text": [
      "/opt/conda/lib/python3.8/site-packages/cenpy/remote.py:224: SyntaxWarning: \"is not\" with a literal. Did you mean \"!=\"?\n",
      "  if index is not \"\":\n",
      "/opt/conda/lib/python3.8/site-packages/cenpy/tiger.py:186: SyntaxWarning: \"is\" with a literal. Did you mean \"==\"?\n",
      "  if kwargs.get(\"returnGeometry\", \"true\") is \"false\":\n"
     ]
    }
   ],
   "source": [
    "#Foundational libraries\n",
    "import numpy as np\n",
    "import pandas as pd\n",
    "import statsmodels.formula.api as smf\n",
    "import statsmodels.api as sm\n",
    "import geopandas as gp\n",
    "import cenpy as cen\n",
    "import matplotlib.pyplot as plt\n",
    "import matplotlib as mpl\n",
    "%matplotlib inline"
   ]
  },
  {
   "cell_type": "code",
   "execution_count": null,
   "id": "spatial-cutting",
   "metadata": {},
   "outputs": [],
   "source": [
    "Baltimore = gp.read_file('Baltimore.geojson')"
   ]
  },
  {
   "cell_type": "code",
   "execution_count": 102,
   "id": "vanilla-scholarship",
   "metadata": {},
   "outputs": [
    {
     "name": "stdout",
     "output_type": "stream",
     "text": [
      "<class 'geopandas.geodataframe.GeoDataFrame'>\n",
      "RangeIndex: 95615 entries, 0 to 95614\n",
      "Columns: 133 entries, OBJECTID to geometry\n",
      "dtypes: float64(8), geometry(1), int64(19), object(105)\n",
      "memory usage: 97.0+ MB\n"
     ]
    }
   ],
   "source": [
    "Baltimore.info()"
   ]
  },
  {
   "cell_type": "code",
   "execution_count": null,
   "id": "dedicated-wisconsin",
   "metadata": {},
   "outputs": [],
   "source": [
    "Properties = gp.read_file('Baltimore.geojson')"
   ]
  },
  {
   "cell_type": "code",
   "execution_count": 104,
   "id": "turned-original",
   "metadata": {},
   "outputs": [],
   "source": [
    "Res = (Properties['DESCLU'] == 'Residential') #We only want residential data"
   ]
  },
  {
   "cell_type": "code",
   "execution_count": 105,
   "id": "informal-transcript",
   "metadata": {},
   "outputs": [
    {
     "data": {
      "text/plain": [
       "0    True\n",
       "1    True\n",
       "2    True\n",
       "3    True\n",
       "4    True\n",
       "Name: DESCLU, dtype: bool"
      ]
     },
     "execution_count": 105,
     "metadata": {},
     "output_type": "execute_result"
    }
   ],
   "source": [
    "Res.head()"
   ]
  },
  {
   "cell_type": "code",
   "execution_count": 106,
   "id": "wanted-cassette",
   "metadata": {},
   "outputs": [],
   "source": [
    "Baltimore = Baltimore[Res] #Data filtered"
   ]
  },
  {
   "cell_type": "code",
   "execution_count": 121,
   "id": "selective-pension",
   "metadata": {},
   "outputs": [
    {
     "name": "stdout",
     "output_type": "stream",
     "text": [
      "<class 'geopandas.geodataframe.GeoDataFrame'>\n",
      "Int64Index: 73721 entries, 0 to 95614\n",
      "Columns: 136 entries, OBJECTID to near_dist\n",
      "dtypes: float64(9), geometry(1), int64(20), object(106)\n",
      "memory usage: 77.1+ MB\n"
     ]
    },
    {
     "name": "stderr",
     "output_type": "stream",
     "text": [
      "/opt/conda/lib/python3.8/site-packages/ipykernel/ipkernel.py:283: DeprecationWarning: `should_run_async` will not call `transform_cell` automatically in the future. Please pass the result to `transformed_cell` argument and any exception that happen during thetransform in `preprocessing_exc_tuple` in IPython 7.17 and above.\n",
      "  and should_run_async(code)\n"
     ]
    }
   ],
   "source": [
    "Baltimore.info() #More than twenty thousand data eliminated"
   ]
  },
  {
   "cell_type": "code",
   "execution_count": 108,
   "id": "adolescent-hindu",
   "metadata": {},
   "outputs": [],
   "source": [
    "I83 = gpd.read_file('work/Data/I83.geojson')"
   ]
  },
  {
   "cell_type": "code",
   "execution_count": 96,
   "id": "composed-appendix",
   "metadata": {},
   "outputs": [],
   "source": [
    "Baltimore = Baltimore.to_crs(epsg=32618)"
   ]
  },
  {
   "cell_type": "code",
   "execution_count": 97,
   "id": "portable-frederick",
   "metadata": {},
   "outputs": [
    {
     "name": "stderr",
     "output_type": "stream",
     "text": [
      "/opt/conda/lib/python3.8/site-packages/ipykernel/ipkernel.py:283: DeprecationWarning: `should_run_async` will not call `transform_cell` automatically in the future. Please pass the result to `transformed_cell` argument and any exception that happen during thetransform in `preprocessing_exc_tuple` in IPython 7.17 and above.\n",
      "  and should_run_async(code)\n"
     ]
    }
   ],
   "source": [
    "I83 = I83.to_crs(epsg=32618)"
   ]
  },
  {
   "cell_type": "code",
   "execution_count": 109,
   "id": "cardiac-hepatitis",
   "metadata": {},
   "outputs": [],
   "source": [
    "min_feature = []\n",
    "min_geom = []\n",
    "min_dist = []\n",
    "for row in Baltimore.iterrows():\n",
    "    dists = I83.distance(row[-1].geometry)\n",
    "    min_geom.append(Baltimore.iloc[dists[dists == dists.min()].index].geometry)\n",
    "    min_feature.append(Baltimore.iloc[dists[dists == dists.min()].index].index[0])\n",
    "    min_dist.append(dists.min())\n",
    "Baltimore['near_feature'] = min_feature\n",
    "Baltimore['near_geom'] = min_geom\n",
    "Baltimore['near_dist'] = min_dist"
   ]
  },
  {
   "cell_type": "code",
   "execution_count": 110,
   "id": "nuclear-heather",
   "metadata": {},
   "outputs": [
    {
     "name": "stderr",
     "output_type": "stream",
     "text": [
      "/opt/conda/lib/python3.8/site-packages/ipykernel/ipkernel.py:283: DeprecationWarning: `should_run_async` will not call `transform_cell` automatically in the future. Please pass the result to `transformed_cell` argument and any exception that happen during thetransform in `preprocessing_exc_tuple` in IPython 7.17 and above.\n",
      "  and should_run_async(code)\n"
     ]
    },
    {
     "data": {
      "text/html": [
       "<div>\n",
       "<style scoped>\n",
       "    .dataframe tbody tr th:only-of-type {\n",
       "        vertical-align: middle;\n",
       "    }\n",
       "\n",
       "    .dataframe tbody tr th {\n",
       "        vertical-align: top;\n",
       "    }\n",
       "\n",
       "    .dataframe thead th {\n",
       "        text-align: right;\n",
       "    }\n",
       "</style>\n",
       "<table border=\"1\" class=\"dataframe\">\n",
       "  <thead>\n",
       "    <tr style=\"text-align: right;\">\n",
       "      <th></th>\n",
       "      <th>OBJECTID</th>\n",
       "      <th>JURSCODE</th>\n",
       "      <th>ACCTID</th>\n",
       "      <th>DIGXCORD</th>\n",
       "      <th>DIGYCORD</th>\n",
       "      <th>CT2010</th>\n",
       "      <th>BG2010</th>\n",
       "      <th>GEOGCODE</th>\n",
       "      <th>OOI</th>\n",
       "      <th>RESITYP</th>\n",
       "      <th>...</th>\n",
       "      <th>MDPVDATE</th>\n",
       "      <th>LEGAL3</th>\n",
       "      <th>HOMQLCOD</th>\n",
       "      <th>RESIDENT</th>\n",
       "      <th>NFMTTLVL</th>\n",
       "      <th>SDATDATE</th>\n",
       "      <th>geometry</th>\n",
       "      <th>near_feature</th>\n",
       "      <th>near_geom</th>\n",
       "      <th>near_dist</th>\n",
       "    </tr>\n",
       "  </thead>\n",
       "  <tbody>\n",
       "    <tr>\n",
       "      <th>0</th>\n",
       "      <td>114009</td>\n",
       "      <td>ANNE</td>\n",
       "      <td>020320590101569</td>\n",
       "      <td>440891.9</td>\n",
       "      <td>166448.6</td>\n",
       "      <td>24003730100</td>\n",
       "      <td>240037301002</td>\n",
       "      <td>80</td>\n",
       "      <td>N</td>\n",
       "      <td>SF</td>\n",
       "      <td>...</td>\n",
       "      <td>2019APR</td>\n",
       "      <td>CLEARWATER</td>\n",
       "      <td></td>\n",
       "      <td>0</td>\n",
       "      <td>3800</td>\n",
       "      <td>2021AUG</td>\n",
       "      <td>POINT (-76.52683 39.16518)</td>\n",
       "      <td>0</td>\n",
       "      <td>0    POINT (-76.52683 39.16518)\n",
       "Name: geometry...</td>\n",
       "      <td>0.142734</td>\n",
       "    </tr>\n",
       "    <tr>\n",
       "      <th>1</th>\n",
       "      <td>216264</td>\n",
       "      <td>ANNE</td>\n",
       "      <td>020504712558005</td>\n",
       "      <td>433089.4</td>\n",
       "      <td>174164.2</td>\n",
       "      <td>24003750102</td>\n",
       "      <td>240037501021</td>\n",
       "      <td>81</td>\n",
       "      <td>N</td>\n",
       "      <td>SF</td>\n",
       "      <td>...</td>\n",
       "      <td>2019APR</td>\n",
       "      <td>BROOKLYN PARK</td>\n",
       "      <td></td>\n",
       "      <td>0</td>\n",
       "      <td>20000</td>\n",
       "      <td>2021AUG</td>\n",
       "      <td>POINT (-76.61674 39.23501)</td>\n",
       "      <td>0</td>\n",
       "      <td>0    POINT (-76.52683 39.16518)\n",
       "Name: geometry...</td>\n",
       "      <td>0.051765</td>\n",
       "    </tr>\n",
       "    <tr>\n",
       "      <th>2</th>\n",
       "      <td>259783</td>\n",
       "      <td>BACI</td>\n",
       "      <td>0301011738 001</td>\n",
       "      <td>435607.3</td>\n",
       "      <td>180454.0</td>\n",
       "      <td>24510010500</td>\n",
       "      <td>245100105001</td>\n",
       "      <td>82</td>\n",
       "      <td>H</td>\n",
       "      <td>SF</td>\n",
       "      <td>...</td>\n",
       "      <td>2021APR</td>\n",
       "      <td></td>\n",
       "      <td>A</td>\n",
       "      <td>1</td>\n",
       "      <td>751900</td>\n",
       "      <td>2021AUG</td>\n",
       "      <td>POINT (-76.58725 39.29157)</td>\n",
       "      <td>0</td>\n",
       "      <td>0    POINT (-76.52683 39.16518)\n",
       "Name: geometry...</td>\n",
       "      <td>0.017983</td>\n",
       "    </tr>\n",
       "    <tr>\n",
       "      <th>3</th>\n",
       "      <td>259784</td>\n",
       "      <td>BACI</td>\n",
       "      <td>0301011738 002</td>\n",
       "      <td>435612.6</td>\n",
       "      <td>180454.7</td>\n",
       "      <td>24510010500</td>\n",
       "      <td>245100105001</td>\n",
       "      <td>82</td>\n",
       "      <td>H</td>\n",
       "      <td>SF</td>\n",
       "      <td>...</td>\n",
       "      <td>2021APR</td>\n",
       "      <td></td>\n",
       "      <td>A</td>\n",
       "      <td>1</td>\n",
       "      <td>553600</td>\n",
       "      <td>2021AUG</td>\n",
       "      <td>POINT (-76.58719 39.29157)</td>\n",
       "      <td>0</td>\n",
       "      <td>0    POINT (-76.52683 39.16518)\n",
       "Name: geometry...</td>\n",
       "      <td>0.018043</td>\n",
       "    </tr>\n",
       "    <tr>\n",
       "      <th>4</th>\n",
       "      <td>259785</td>\n",
       "      <td>BACI</td>\n",
       "      <td>0301011738 003</td>\n",
       "      <td>435617.9</td>\n",
       "      <td>180455.0</td>\n",
       "      <td>24510010500</td>\n",
       "      <td>245100105001</td>\n",
       "      <td>82</td>\n",
       "      <td>H</td>\n",
       "      <td>SF</td>\n",
       "      <td>...</td>\n",
       "      <td>2021APR</td>\n",
       "      <td></td>\n",
       "      <td>A</td>\n",
       "      <td>1</td>\n",
       "      <td>478300</td>\n",
       "      <td>2021AUG</td>\n",
       "      <td>POINT (-76.58712 39.29158)</td>\n",
       "      <td>0</td>\n",
       "      <td>0    POINT (-76.52683 39.16518)\n",
       "Name: geometry...</td>\n",
       "      <td>0.018102</td>\n",
       "    </tr>\n",
       "  </tbody>\n",
       "</table>\n",
       "<p>5 rows × 136 columns</p>\n",
       "</div>"
      ],
      "text/plain": [
       "   OBJECTID JURSCODE           ACCTID  DIGXCORD  DIGYCORD       CT2010  \\\n",
       "0    114009     ANNE  020320590101569  440891.9  166448.6  24003730100   \n",
       "1    216264     ANNE  020504712558005  433089.4  174164.2  24003750102   \n",
       "2    259783     BACI   0301011738 001  435607.3  180454.0  24510010500   \n",
       "3    259784     BACI   0301011738 002  435612.6  180454.7  24510010500   \n",
       "4    259785     BACI   0301011738 003  435617.9  180455.0  24510010500   \n",
       "\n",
       "         BG2010 GEOGCODE OOI RESITYP  ... MDPVDATE         LEGAL3 HOMQLCOD  \\\n",
       "0  240037301002       80   N      SF  ...  2019APR     CLEARWATER            \n",
       "1  240037501021       81   N      SF  ...  2019APR  BROOKLYN PARK            \n",
       "2  245100105001       82   H      SF  ...  2021APR                       A   \n",
       "3  245100105001       82   H      SF  ...  2021APR                       A   \n",
       "4  245100105001       82   H      SF  ...  2021APR                       A   \n",
       "\n",
       "  RESIDENT NFMTTLVL SDATDATE                    geometry near_feature  \\\n",
       "0        0     3800  2021AUG  POINT (-76.52683 39.16518)            0   \n",
       "1        0    20000  2021AUG  POINT (-76.61674 39.23501)            0   \n",
       "2        1   751900  2021AUG  POINT (-76.58725 39.29157)            0   \n",
       "3        1   553600  2021AUG  POINT (-76.58719 39.29157)            0   \n",
       "4        1   478300  2021AUG  POINT (-76.58712 39.29158)            0   \n",
       "\n",
       "                                           near_geom near_dist  \n",
       "0  0    POINT (-76.52683 39.16518)\n",
       "Name: geometry...  0.142734  \n",
       "1  0    POINT (-76.52683 39.16518)\n",
       "Name: geometry...  0.051765  \n",
       "2  0    POINT (-76.52683 39.16518)\n",
       "Name: geometry...  0.017983  \n",
       "3  0    POINT (-76.52683 39.16518)\n",
       "Name: geometry...  0.018043  \n",
       "4  0    POINT (-76.52683 39.16518)\n",
       "Name: geometry...  0.018102  \n",
       "\n",
       "[5 rows x 136 columns]"
      ]
     },
     "execution_count": 110,
     "metadata": {},
     "output_type": "execute_result"
    }
   ],
   "source": [
    "Baltimore.head()"
   ]
  },
  {
   "cell_type": "code",
   "execution_count": 111,
   "id": "enclosed-chess",
   "metadata": {},
   "outputs": [
    {
     "name": "stderr",
     "output_type": "stream",
     "text": [
      "/opt/conda/lib/python3.8/site-packages/ipykernel/ipkernel.py:283: DeprecationWarning: `should_run_async` will not call `transform_cell` automatically in the future. Please pass the result to `transformed_cell` argument and any exception that happen during thetransform in `preprocessing_exc_tuple` in IPython 7.17 and above.\n",
      "  and should_run_async(code)\n"
     ]
    },
    {
     "ename": "ValueError",
     "evalue": "Invalid field type <class 'geopandas.geoseries.GeoSeries'>",
     "output_type": "error",
     "traceback": [
      "\u001b[0;31m---------------------------------------------------------------------------\u001b[0m",
      "\u001b[0;31mValueError\u001b[0m                                Traceback (most recent call last)",
      "\u001b[0;32m<ipython-input-111-fb0fe1e8ec00>\u001b[0m in \u001b[0;36m<module>\u001b[0;34m\u001b[0m\n\u001b[0;32m----> 1\u001b[0;31m \u001b[0mBaltimore\u001b[0m\u001b[0;34m.\u001b[0m\u001b[0mto_file\u001b[0m\u001b[0;34m(\u001b[0m\u001b[0;34m\"Residential.geojson\"\u001b[0m\u001b[0;34m,\u001b[0m \u001b[0mdriver\u001b[0m\u001b[0;34m=\u001b[0m\u001b[0;34m'GeoJSON'\u001b[0m\u001b[0;34m)\u001b[0m\u001b[0;34m\u001b[0m\u001b[0;34m\u001b[0m\u001b[0m\n\u001b[0m",
      "\u001b[0;32m/opt/conda/lib/python3.8/site-packages/geopandas/geodataframe.py\u001b[0m in \u001b[0;36mto_file\u001b[0;34m(self, filename, driver, schema, index, **kwargs)\u001b[0m\n\u001b[1;32m   1084\u001b[0m         \u001b[0;32mfrom\u001b[0m \u001b[0mgeopandas\u001b[0m\u001b[0;34m.\u001b[0m\u001b[0mio\u001b[0m\u001b[0;34m.\u001b[0m\u001b[0mfile\u001b[0m \u001b[0;32mimport\u001b[0m \u001b[0m_to_file\u001b[0m\u001b[0;34m\u001b[0m\u001b[0;34m\u001b[0m\u001b[0m\n\u001b[1;32m   1085\u001b[0m \u001b[0;34m\u001b[0m\u001b[0m\n\u001b[0;32m-> 1086\u001b[0;31m         \u001b[0m_to_file\u001b[0m\u001b[0;34m(\u001b[0m\u001b[0mself\u001b[0m\u001b[0;34m,\u001b[0m \u001b[0mfilename\u001b[0m\u001b[0;34m,\u001b[0m \u001b[0mdriver\u001b[0m\u001b[0;34m,\u001b[0m \u001b[0mschema\u001b[0m\u001b[0;34m,\u001b[0m \u001b[0mindex\u001b[0m\u001b[0;34m,\u001b[0m \u001b[0;34m**\u001b[0m\u001b[0mkwargs\u001b[0m\u001b[0;34m)\u001b[0m\u001b[0;34m\u001b[0m\u001b[0;34m\u001b[0m\u001b[0m\n\u001b[0m\u001b[1;32m   1087\u001b[0m \u001b[0;34m\u001b[0m\u001b[0m\n\u001b[1;32m   1088\u001b[0m     \u001b[0;32mdef\u001b[0m \u001b[0mset_crs\u001b[0m\u001b[0;34m(\u001b[0m\u001b[0mself\u001b[0m\u001b[0;34m,\u001b[0m \u001b[0mcrs\u001b[0m\u001b[0;34m=\u001b[0m\u001b[0;32mNone\u001b[0m\u001b[0;34m,\u001b[0m \u001b[0mepsg\u001b[0m\u001b[0;34m=\u001b[0m\u001b[0;32mNone\u001b[0m\u001b[0;34m,\u001b[0m \u001b[0minplace\u001b[0m\u001b[0;34m=\u001b[0m\u001b[0;32mFalse\u001b[0m\u001b[0;34m,\u001b[0m \u001b[0mallow_override\u001b[0m\u001b[0;34m=\u001b[0m\u001b[0;32mFalse\u001b[0m\u001b[0;34m)\u001b[0m\u001b[0;34m:\u001b[0m\u001b[0;34m\u001b[0m\u001b[0;34m\u001b[0m\u001b[0m\n",
      "\u001b[0;32m/opt/conda/lib/python3.8/site-packages/geopandas/io/file.py\u001b[0m in \u001b[0;36m_to_file\u001b[0;34m(df, filename, driver, schema, index, mode, crs, **kwargs)\u001b[0m\n\u001b[1;32m    328\u001b[0m             \u001b[0mfilename\u001b[0m\u001b[0;34m,\u001b[0m \u001b[0mmode\u001b[0m\u001b[0;34m=\u001b[0m\u001b[0mmode\u001b[0m\u001b[0;34m,\u001b[0m \u001b[0mdriver\u001b[0m\u001b[0;34m=\u001b[0m\u001b[0mdriver\u001b[0m\u001b[0;34m,\u001b[0m \u001b[0mcrs_wkt\u001b[0m\u001b[0;34m=\u001b[0m\u001b[0mcrs_wkt\u001b[0m\u001b[0;34m,\u001b[0m \u001b[0mschema\u001b[0m\u001b[0;34m=\u001b[0m\u001b[0mschema\u001b[0m\u001b[0;34m,\u001b[0m \u001b[0;34m**\u001b[0m\u001b[0mkwargs\u001b[0m\u001b[0;34m\u001b[0m\u001b[0;34m\u001b[0m\u001b[0m\n\u001b[1;32m    329\u001b[0m         ) as colxn:\n\u001b[0;32m--> 330\u001b[0;31m             \u001b[0mcolxn\u001b[0m\u001b[0;34m.\u001b[0m\u001b[0mwriterecords\u001b[0m\u001b[0;34m(\u001b[0m\u001b[0mdf\u001b[0m\u001b[0;34m.\u001b[0m\u001b[0miterfeatures\u001b[0m\u001b[0;34m(\u001b[0m\u001b[0;34m)\u001b[0m\u001b[0;34m)\u001b[0m\u001b[0;34m\u001b[0m\u001b[0;34m\u001b[0m\u001b[0m\n\u001b[0m\u001b[1;32m    331\u001b[0m \u001b[0;34m\u001b[0m\u001b[0m\n\u001b[1;32m    332\u001b[0m \u001b[0;34m\u001b[0m\u001b[0m\n",
      "\u001b[0;32m/opt/conda/lib/python3.8/site-packages/fiona/collection.py\u001b[0m in \u001b[0;36mwriterecords\u001b[0;34m(self, records)\u001b[0m\n\u001b[1;32m    359\u001b[0m         \u001b[0;32mif\u001b[0m \u001b[0mself\u001b[0m\u001b[0;34m.\u001b[0m\u001b[0mmode\u001b[0m \u001b[0;32mnot\u001b[0m \u001b[0;32min\u001b[0m \u001b[0;34m(\u001b[0m\u001b[0;34m'a'\u001b[0m\u001b[0;34m,\u001b[0m \u001b[0;34m'w'\u001b[0m\u001b[0;34m)\u001b[0m\u001b[0;34m:\u001b[0m\u001b[0;34m\u001b[0m\u001b[0;34m\u001b[0m\u001b[0m\n\u001b[1;32m    360\u001b[0m             \u001b[0;32mraise\u001b[0m \u001b[0mIOError\u001b[0m\u001b[0;34m(\u001b[0m\u001b[0;34m\"collection not open for writing\"\u001b[0m\u001b[0;34m)\u001b[0m\u001b[0;34m\u001b[0m\u001b[0;34m\u001b[0m\u001b[0m\n\u001b[0;32m--> 361\u001b[0;31m         \u001b[0mself\u001b[0m\u001b[0;34m.\u001b[0m\u001b[0msession\u001b[0m\u001b[0;34m.\u001b[0m\u001b[0mwriterecs\u001b[0m\u001b[0;34m(\u001b[0m\u001b[0mrecords\u001b[0m\u001b[0;34m,\u001b[0m \u001b[0mself\u001b[0m\u001b[0;34m)\u001b[0m\u001b[0;34m\u001b[0m\u001b[0;34m\u001b[0m\u001b[0m\n\u001b[0m\u001b[1;32m    362\u001b[0m         \u001b[0mself\u001b[0m\u001b[0;34m.\u001b[0m\u001b[0m_len\u001b[0m \u001b[0;34m=\u001b[0m \u001b[0mself\u001b[0m\u001b[0;34m.\u001b[0m\u001b[0msession\u001b[0m\u001b[0;34m.\u001b[0m\u001b[0mget_length\u001b[0m\u001b[0;34m(\u001b[0m\u001b[0;34m)\u001b[0m\u001b[0;34m\u001b[0m\u001b[0;34m\u001b[0m\u001b[0m\n\u001b[1;32m    363\u001b[0m         \u001b[0mself\u001b[0m\u001b[0;34m.\u001b[0m\u001b[0m_bounds\u001b[0m \u001b[0;34m=\u001b[0m \u001b[0;32mNone\u001b[0m\u001b[0;34m\u001b[0m\u001b[0;34m\u001b[0m\u001b[0m\n",
      "\u001b[0;32mfiona/ogrext.pyx\u001b[0m in \u001b[0;36mfiona.ogrext.WritingSession.writerecs\u001b[0;34m()\u001b[0m\n",
      "\u001b[0;32mfiona/ogrext.pyx\u001b[0m in \u001b[0;36mfiona.ogrext.OGRFeatureBuilder.build\u001b[0;34m()\u001b[0m\n",
      "\u001b[0;31mValueError\u001b[0m: Invalid field type <class 'geopandas.geoseries.GeoSeries'>"
     ]
    }
   ],
   "source": [
    "Baltimore.to_file(\"Residential.geojson\", driver='GeoJSON')"
   ]
  },
  {
   "cell_type": "code",
   "execution_count": 118,
   "id": "assisted-boxing",
   "metadata": {},
   "outputs": [
    {
     "name": "stderr",
     "output_type": "stream",
     "text": [
      "/opt/conda/lib/python3.8/site-packages/ipykernel/ipkernel.py:283: DeprecationWarning: `should_run_async` will not call `transform_cell` automatically in the future. Please pass the result to `transformed_cell` argument and any exception that happen during thetransform in `preprocessing_exc_tuple` in IPython 7.17 and above.\n",
      "  and should_run_async(code)\n"
     ]
    }
   ],
   "source": [
    "Test = Baltimore.near_geom"
   ]
  },
  {
   "cell_type": "code",
   "execution_count": 120,
   "id": "pointed-buffer",
   "metadata": {},
   "outputs": [
    {
     "name": "stderr",
     "output_type": "stream",
     "text": [
      "/opt/conda/lib/python3.8/site-packages/ipykernel/ipkernel.py:283: DeprecationWarning: `should_run_async` will not call `transform_cell` automatically in the future. Please pass the result to `transformed_cell` argument and any exception that happen during thetransform in `preprocessing_exc_tuple` in IPython 7.17 and above.\n",
      "  and should_run_async(code)\n"
     ]
    },
    {
     "data": {
      "text/plain": [
       "95610    0    POINT (-76.52683 39.16518)\n",
       "Name: geometry...\n",
       "95611    0    POINT (-76.52683 39.16518)\n",
       "Name: geometry...\n",
       "95612    0    POINT (-76.52683 39.16518)\n",
       "Name: geometry...\n",
       "95613    0    POINT (-76.52683 39.16518)\n",
       "Name: geometry...\n",
       "95614    0    POINT (-76.52683 39.16518)\n",
       "Name: geometry...\n",
       "Name: near_geom, dtype: object"
      ]
     },
     "execution_count": 120,
     "metadata": {},
     "output_type": "execute_result"
    }
   ],
   "source": [
    "Test.tail()"
   ]
  },
  {
   "cell_type": "code",
   "execution_count": null,
   "id": "early-separate",
   "metadata": {},
   "outputs": [],
   "source": []
  }
 ],
 "metadata": {
  "kernelspec": {
   "display_name": "Python 3",
   "language": "python",
   "name": "python3"
  },
  "language_info": {
   "codemirror_mode": {
    "name": "ipython",
    "version": 3
   },
   "file_extension": ".py",
   "mimetype": "text/x-python",
   "name": "python",
   "nbconvert_exporter": "python",
   "pygments_lexer": "ipython3",
   "version": "3.8.8"
  }
 },
 "nbformat": 4,
 "nbformat_minor": 5
}
